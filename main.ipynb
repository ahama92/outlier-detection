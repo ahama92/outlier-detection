{
 "cells": [
  {
   "cell_type": "markdown",
   "metadata": {},
   "source": [
    "# Novelty and Outlier Detection\n",
    "\n",
    "Many different applications require being able to decide whether a new observation belongs to the same distribution as existing observations (inliner), or should we consider it an outlier. This is often used to clean real data sets. There are two important distinctions here.\n",
    "\n",
    "| Detection Type | Definition |\n",
    "|:---:|:---|\n",
    "| Outlier | The training data contains outliers which are defined as observations that are fat from the others. Outlier detection estimators thus try to find the regions where the training data is the most concentrated, ignoring the deviant observations. |\n",
    "| Novelty | The training data is not polluted by outliers and we are interested in detecting whether a new observation is an outlier or not. In this context an outlier is also called a novelty. |\n",
    "\n",
    "Outlier detection and novelty detection are both used for anomaly detection, where one is interested in detecting abnormal or unusual observations. Outlier detection is then also known as unsupervised anomaly detection and novelty detection as semi-supervised anomaly detection. In the context of outlier detection, the outliers/anomalies cannot form a dense cluster as available estimators assume that the outliers/anomalies are located in low density regions. On the contrary, in the context of novelty detection, novelties/anomalies can form a dense cluster as long as they are in a low density region of the training data, considered as normal in this context.\n",
    "\n",
    "You can refer to [scikit-learn](https://scikit-learn.org/stable/index.html) for documentations and examples of this application. [Novelty and Outlier Detection](https://scikit-learn.org/stable/modules/outlier_detection.html) is a good place to start.\n",
    "\n",
    "The goal of this project is to detect outliers in a one dimensional residual vector. This will show us possible anomalies in the residual vector. The residual vector is extracted at each iteration of the CFD solver and outlier detection is applied to the vector. In the following graph the absolute value of the residual in each cell is plotted versus solution iteration in a 2D cell-centered Burgers problem with 502 cells. As seen, after iteration 11 some cells behave differently than the others and their residual value grows substantially. In fact, these cells contribute to the instability of the problem and divergence. \n",
    "\n",
    "<img src=\"./images/burgers-residual.jpg\" alt=\"The absolute value of the residual in each cell is plotted versus solution iteration in a 2D cell-centered Burgers problem with 502 cells\"\n",
    "\ttitle=\"The absolute value of the residual in each cell is plotted versus solution iteration in a 2D cell-centered Burgers problem with 502 cells\" height=\"700\" />\n",
    "\n",
    "Here, we would like to find the solution iterations in which there are cells with outlier residual values. At this point, we will apply an optimization application to the solution and the numerical grid. The goal is to eliminate the unstable solution modes to get a stable result. \n"
   ]
  },
  {
   "cell_type": "code",
   "execution_count": 4,
   "metadata": {},
   "outputs": [
    {
     "ename": "NameError",
     "evalue": "name 'df' is not defined",
     "output_type": "error",
     "traceback": [
      "\u001b[1;31m---------------------------------------------------------------------------\u001b[0m",
      "\u001b[1;31mNameError\u001b[0m                                 Traceback (most recent call last)",
      "\u001b[1;32m<ipython-input-4-354adc81e845>\u001b[0m in \u001b[0;36m<module>\u001b[1;34m\u001b[0m\n\u001b[0;32m      4\u001b[0m \u001b[1;33m\u001b[0m\u001b[0m\n\u001b[0;32m      5\u001b[0m \u001b[1;32mfor\u001b[0m \u001b[0mi\u001b[0m \u001b[1;32min\u001b[0m \u001b[0mrange\u001b[0m\u001b[1;33m(\u001b[0m\u001b[0mN\u001b[0m\u001b[1;33m)\u001b[0m\u001b[1;33m:\u001b[0m\u001b[1;33m\u001b[0m\u001b[1;33m\u001b[0m\u001b[0m\n\u001b[1;32m----> 6\u001b[1;33m     \u001b[0mdf\u001b[0m\u001b[1;33m[\u001b[0m\u001b[0mi\u001b[0m\u001b[1;33m]\u001b[0m \u001b[1;33m=\u001b[0m \u001b[0mpd\u001b[0m\u001b[1;33m.\u001b[0m\u001b[0mread_csv\u001b[0m\u001b[1;33m(\u001b[0m\u001b[1;34m'./data/sol'\u001b[0m\u001b[1;33m+\u001b[0m\u001b[0mstr\u001b[0m\u001b[1;33m(\u001b[0m\u001b[0mi\u001b[0m\u001b[1;33m)\u001b[0m\u001b[1;33m+\u001b[0m\u001b[1;34m'.csv'\u001b[0m\u001b[1;33m,\u001b[0m \u001b[0mskiprows\u001b[0m\u001b[1;33m=\u001b[0m\u001b[1;36m2\u001b[0m\u001b[1;33m,\u001b[0m \u001b[0mheader\u001b[0m\u001b[1;33m=\u001b[0m\u001b[1;32mNone\u001b[0m\u001b[1;33m)\u001b[0m\u001b[1;33m\u001b[0m\u001b[1;33m\u001b[0m\u001b[0m\n\u001b[0m\u001b[0;32m      7\u001b[0m \u001b[1;33m\u001b[0m\u001b[0m\n\u001b[0;32m      8\u001b[0m \u001b[0mdf\u001b[0m\u001b[1;33m.\u001b[0m\u001b[0minfo\u001b[0m\u001b[1;33m(\u001b[0m\u001b[1;33m)\u001b[0m\u001b[1;33m\u001b[0m\u001b[1;33m\u001b[0m\u001b[0m\n",
      "\u001b[1;31mNameError\u001b[0m: name 'df' is not defined"
     ]
    }
   ],
   "source": [
    "import pandas as pd\n",
    "\n",
    "N=20\n",
    "\n",
    "for i in range(N):\n",
    "    df[i] = pd.read_csv('./data/sol'+str(i)+'.csv', skiprows=2, header=None)\n",
    "\n",
    "df.info()"
   ]
  },
  {
   "cell_type": "code",
   "execution_count": null,
   "metadata": {},
   "outputs": [],
   "source": [
    "df[19].describe()"
   ]
  }
 ],
 "metadata": {
  "kernelspec": {
   "display_name": "Python 3",
   "language": "python",
   "name": "python3"
  },
  "language_info": {
   "codemirror_mode": {
    "name": "ipython",
    "version": 3
   },
   "file_extension": ".py",
   "mimetype": "text/x-python",
   "name": "python",
   "nbconvert_exporter": "python",
   "pygments_lexer": "ipython3",
   "version": "3.8.5"
  }
 },
 "nbformat": 4,
 "nbformat_minor": 4
}
