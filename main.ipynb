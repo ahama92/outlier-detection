{
 "cells": [
  {
   "cell_type": "markdown",
   "metadata": {},
   "source": [
    "# Novelty and Outlier Detection\n",
    "\n",
    "Many different applications require being able to decide whether a new observation belongs to the same distribution as existing observations (inliner), or should we consider it an outlier. This is often used to clean real data sets. There are two important distinctions here.\n",
    "\n",
    "| Detection Type | Definition |\n",
    "|:---:|:---|\n",
    "| Outlier | The training data contains outliers which are defined as observations that are fat from the others. Outlier detection estimators thus try to find the regions where the training data is the most concentrated, ignoring the deviant observations. |\n",
    "| Novelty | The training data is not polluted by outliers and we are interested in detecting whether a new observation is an outlier or not. In this context an outlier is also called a novelty. |\n",
    "\n",
    "Outlier detection and novelty detection are both used for anomaly detection, where one is interested in detecting abnormal or unusual observations. Outlier detection is then also known as unsupervised anomaly detection and novelty detection as semi-supervised anomaly detection. In the context of outlier detection, the outliers/anomalies cannot form a dense cluster as available estimators assume that the outliers/anomalies are located in low density regions. On the contrary, in the context of novelty detection, novelties/anomalies can form a dense cluster as long as they are in a low density region of the training data, considered as normal in this context.\n",
    "\n",
    "You can refer to [scikit-learn](https://scikit-learn.org/stable/index.html) for documentations and examples of this application. [Novelty and Outlier Detection](https://scikit-learn.org/stable/modules/outlier_detection.html) is a good place to start.\n",
    "\n",
    "The goal of this project is to detect outliers in a one dimensional residual vector. This will show us possible anomalies in the residual vector. The residual vector is extracted at each iteration of the CFD solver and outlier detection is applied to the vector. In the following graph the absolute value of the residual in each cell is plotted versus solution iteration in a 2D cell-centered Burgers problem with 502 cells. As seen, after iteration 11 some cells behave differently than the others and their residual value grows substantially. In fact, these cells contribute to the instability of the problem and divergence. \n",
    "\n",
    "<img src=\"./images/burgers-residual.jpg\" alt=\"The absolute value of the residual in each cell is plotted versus solution iteration in a 2D cell-centered Burgers problem with 502 cells\"\n",
    "\ttitle=\"The absolute value of the residual in each cell is plotted versus solution iteration in a 2D cell-centered Burgers problem with 502 cells\" height=\"700\" />\n",
    "\n",
    "Here, we would like to find the solution iterations in which there are cells with outlier residual values. At this point, we will apply an optimization application to the solution and the numerical grid. The goal is to eliminate the unstable solution modes to get a stable result. \n"
   ]
  },
  {
   "cell_type": "code",
   "execution_count": 13,
   "metadata": {},
   "outputs": [
    {
     "data": {
      "text/html": [
       "<div>\n",
       "<style scoped>\n",
       "    .dataframe tbody tr th:only-of-type {\n",
       "        vertical-align: middle;\n",
       "    }\n",
       "\n",
       "    .dataframe tbody tr th {\n",
       "        vertical-align: top;\n",
       "    }\n",
       "\n",
       "    .dataframe thead th {\n",
       "        text-align: right;\n",
       "    }\n",
       "</style>\n",
       "<table border=\"1\" class=\"dataframe\">\n",
       "  <thead>\n",
       "    <tr style=\"text-align: right;\">\n",
       "      <th></th>\n",
       "      <th>0</th>\n",
       "    </tr>\n",
       "  </thead>\n",
       "  <tbody>\n",
       "    <tr>\n",
       "      <th>count</th>\n",
       "      <td>5.020000e+02</td>\n",
       "    </tr>\n",
       "    <tr>\n",
       "      <th>mean</th>\n",
       "      <td>-5.281962e-02</td>\n",
       "    </tr>\n",
       "    <tr>\n",
       "      <th>std</th>\n",
       "      <td>1.547486e-01</td>\n",
       "    </tr>\n",
       "    <tr>\n",
       "      <th>min</th>\n",
       "      <td>-8.549260e-01</td>\n",
       "    </tr>\n",
       "    <tr>\n",
       "      <th>25%</th>\n",
       "      <td>-3.900447e-03</td>\n",
       "    </tr>\n",
       "    <tr>\n",
       "      <th>50%</th>\n",
       "      <td>-3.300525e-07</td>\n",
       "    </tr>\n",
       "    <tr>\n",
       "      <th>75%</th>\n",
       "      <td>7.189033e-05</td>\n",
       "    </tr>\n",
       "    <tr>\n",
       "      <th>max</th>\n",
       "      <td>2.154020e-02</td>\n",
       "    </tr>\n",
       "  </tbody>\n",
       "</table>\n",
       "</div>"
      ],
      "text/plain": [
       "                  0\n",
       "count  5.020000e+02\n",
       "mean  -5.281962e-02\n",
       "std    1.547486e-01\n",
       "min   -8.549260e-01\n",
       "25%   -3.900447e-03\n",
       "50%   -3.300525e-07\n",
       "75%    7.189033e-05\n",
       "max    2.154020e-02"
      ]
     },
     "execution_count": 13,
     "metadata": {},
     "output_type": "execute_result"
    }
   ],
   "source": [
    "import pandas as pd\n",
    "\n",
    "df = pd.read_csv('test.csv', skiprows=2, header=None)\n",
    "\n",
    "df.describe()"
   ]
  }
 ],
 "metadata": {
  "kernelspec": {
   "display_name": "Python 3",
   "language": "python",
   "name": "python3"
  },
  "language_info": {
   "codemirror_mode": {
    "name": "ipython",
    "version": 3
   },
   "file_extension": ".py",
   "mimetype": "text/x-python",
   "name": "python",
   "nbconvert_exporter": "python",
   "pygments_lexer": "ipython3",
   "version": "3.8.5"
  }
 },
 "nbformat": 4,
 "nbformat_minor": 4
}
